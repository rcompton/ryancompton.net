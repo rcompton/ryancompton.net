{
 "cells": [
  {
   "cell_type": "code",
   "execution_count": 1,
   "id": "ba7e91a7",
   "metadata": {},
   "outputs": [],
   "source": [
    "from gpiozero import LED\n",
    "import time"
   ]
  },
  {
   "cell_type": "code",
   "execution_count": 2,
   "id": "28d67783",
   "metadata": {},
   "outputs": [],
   "source": [
    "white = LED(2)\n",
    "yellow = LED(20)\n",
    "orange = LED(3)\n",
    "green = LED(4)\n",
    "blue = LED(15)\n",
    "red = LED(21)n \n"
   ]
  },
  {
   "cell_type": "code",
   "execution_count": 3,
   "id": "900aef4c",
   "metadata": {},
   "outputs": [
    {
     "ename": "KeyboardInterrupt",
     "evalue": "",
     "output_type": "error",
     "traceback": [
      "\u001b[0;31m---------------------------------------------------------------------------\u001b[0m",
      "\u001b[0;31mKeyboardInterrupt\u001b[0m                         Traceback (most recent call last)",
      "\u001b[0;32m/tmp/ipykernel_1855/4082354414.py\u001b[0m in \u001b[0;36m<module>\u001b[0;34m\u001b[0m\n\u001b[1;32m     21\u001b[0m \u001b[0;34m\u001b[0m\u001b[0m\n\u001b[1;32m     22\u001b[0m     \u001b[0mred\u001b[0m\u001b[0;34m.\u001b[0m\u001b[0mon\u001b[0m\u001b[0;34m(\u001b[0m\u001b[0;34m)\u001b[0m\u001b[0;34m\u001b[0m\u001b[0;34m\u001b[0m\u001b[0m\n\u001b[0;32m---> 23\u001b[0;31m     \u001b[0mtime\u001b[0m\u001b[0;34m.\u001b[0m\u001b[0msleep\u001b[0m\u001b[0;34m(\u001b[0m\u001b[0;36m0.01\u001b[0m\u001b[0;34m*\u001b[0m\u001b[0;34m(\u001b[0m\u001b[0mi\u001b[0m\u001b[0;34m%\u001b[0m\u001b[0;36m55\u001b[0m\u001b[0;34m)\u001b[0m\u001b[0;34m)\u001b[0m\u001b[0;34m\u001b[0m\u001b[0;34m\u001b[0m\u001b[0m\n\u001b[0m\u001b[1;32m     24\u001b[0m     \u001b[0mred\u001b[0m\u001b[0;34m.\u001b[0m\u001b[0moff\u001b[0m\u001b[0;34m(\u001b[0m\u001b[0;34m)\u001b[0m\u001b[0;34m\u001b[0m\u001b[0;34m\u001b[0m\u001b[0m\n",
      "\u001b[0;31mKeyboardInterrupt\u001b[0m: "
     ]
    }
   ],
   "source": [
    "for i in range(500000):\n",
    "    blue.on()\n",
    "    time.sleep(0.01*(i%11))\n",
    "    blue.off()\n",
    "    \n",
    "    green.on()\n",
    "    time.sleep(0.01*(i%22))\n",
    "    green.off()\n",
    "\n",
    "    orange.on()\n",
    "    time.sleep(0.01*(i%33))\n",
    "    orange.off()\n",
    "\n",
    "    yellow.on()\n",
    "    time.sleep(0.01*(i%33))\n",
    "    yellow.off()\n",
    "\n",
    "    white.on()\n",
    "    time.sleep(0.01*(i%44))\n",
    "    white.off()\n",
    "    \n",
    "    red.on()\n",
    "    time.sleep(0.01*(i%55))\n",
    "    red.off()"
   ]
  },
  {
   "cell_type": "code",
   "execution_count": null,
   "id": "682695a2",
   "metadata": {},
   "outputs": [],
   "source": []
  },
  {
   "cell_type": "code",
   "execution_count": null,
   "id": "d254917d",
   "metadata": {},
   "outputs": [],
   "source": []
  },
  {
   "cell_type": "code",
   "execution_count": null,
   "id": "35f0f273",
   "metadata": {},
   "outputs": [],
   "source": []
  }
 ],
 "metadata": {
  "kernelspec": {
   "display_name": "Python 3 (ipykernel)",
   "language": "python",
   "name": "python3"
  },
  "language_info": {
   "codemirror_mode": {
    "name": "ipython",
    "version": 3
   },
   "file_extension": ".py",
   "mimetype": "text/x-python",
   "name": "python",
   "nbconvert_exporter": "python",
   "pygments_lexer": "ipython3",
   "version": "3.7.3"
  }
 },
 "nbformat": 4,
 "nbformat_minor": 5
}
