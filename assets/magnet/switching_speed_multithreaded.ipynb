{
 "cells": [
  {
   "cell_type": "code",
   "execution_count": 7,
   "id": "ae146079-72e5-4ce0-a856-ce52b64f9272",
   "metadata": {},
   "outputs": [
    {
     "name": "stdout",
     "output_type": "stream",
     "text": [
      "Average Rise Time: 0.015027 seconds\n",
      "Individual Rise Times: [np.float64(0.015645980834961007), np.float64(0.0155901908874512), np.float64(0.015614748001098688), np.float64(0.015608072280883789), np.float64(0.015296459197997991), np.float64(0.016045808792114258), np.float64(0.016017913818359375), np.float64(0.016099929809570312), np.float64(0.01602911949157715), np.float64(0.01603269577026356), np.float64(0.01612663269042991), np.float64(0.014036893844604714), np.float64(0.014032125473022683), np.float64(0.014025449752807617), np.float64(0.014025688171386719), np.float64(0.014060735702514648), np.float64(0.014044046401977761), np.float64(0.014067649841308594), np.float64(0.014050960540771262), np.float64(0.01408076286315918)]\n",
      "Average Fall Time: 0.019853 seconds\n",
      "Individual Fall Times: [np.float64(0.017171859741210896), np.float64(0.018985509872436496), np.float64(0.018729209899902288), np.float64(0.01871657371520996), np.float64(0.02087998390197754), np.float64(0.022036075592041016), np.float64(0.02004528045654297), np.float64(0.020024776458740234), np.float64(0.020023107528686745), np.float64(0.020049095153808594), np.float64(0.020047903060913308), np.float64(0.020085811614990234), np.float64(0.020024538040161133), np.float64(0.02003192901611328), np.float64(0.020134687423706055), np.float64(0.020034551620483176), np.float64(0.020083665847778542), np.float64(0.0200498104095459), np.float64(0.020052433013916016)]\n"
     ]
    }
   ],
   "source": [
    "import numpy as np\n",
    "import pandas as pd\n",
    "import csv\n",
    "\n",
    "# ---------------------------\n",
    "#    RISE AND FALL TIME ANALYSIS\n",
    "# ---------------------------\n",
    "def calculate_rise_fall_times(data):\n",
    "    \"\"\"\n",
    "    Calculate rise and fall times (10% to 90%) of the voltage transitions.\n",
    "    \n",
    "    Args:\n",
    "    - data: DataFrame containing time and voltage\n",
    "    \n",
    "    Returns:\n",
    "    - A dictionary with lists of rise times and fall times\n",
    "    \"\"\"\n",
    "    curr_time = data[\"Time (s)\"]\n",
    "    voltage = data[\"Hall Sensor Voltage (V)\"]\n",
    "    rise_times = []\n",
    "    fall_times = []\n",
    "\n",
    "    # Define thresholds for 10% and 90% of steady-state values\n",
    "    max_voltage = np.max(voltage)\n",
    "    min_voltage = np.min(voltage)\n",
    "    threshold_10 = min_voltage + 0.1 * (max_voltage - min_voltage)\n",
    "    threshold_90 = min_voltage + 0.9 * (max_voltage - min_voltage)\n",
    "\n",
    "    rising_start = None\n",
    "    falling_start = None\n",
    "\n",
    "    for i in range(1, len(voltage)):\n",
    "        # Detect rising transition\n",
    "        if voltage[i - 1] < threshold_10 and voltage[i] >= threshold_10:\n",
    "            rising_start = curr_time[i]\n",
    "        elif voltage[i - 1] < threshold_90 and voltage[i] >= threshold_90 and rising_start is not None:\n",
    "            rise_times.append(curr_time[i] - rising_start)\n",
    "            rising_start = None\n",
    "\n",
    "        # Detect falling transition\n",
    "        if voltage[i - 1] > threshold_90 and voltage[i] <= threshold_90:\n",
    "            falling_start = curr_time[i]\n",
    "        elif voltage[i - 1] > threshold_10 and voltage[i] <= threshold_10 and falling_start is not None:\n",
    "            fall_times.append(curr_time[i] - falling_start)\n",
    "            falling_start = None\n",
    "\n",
    "    return {\"rise_times\": rise_times, \"fall_times\": fall_times}\n",
    "\n",
    "file_name = \"switching_speed_multithreaded.csv\"\n",
    "# Load the data into a DataFrame\n",
    "data = pd.read_csv(file_name)\n",
    "\n",
    "# Analyze rise and fall times\n",
    "transition_times = calculate_rise_fall_times(data)\n",
    "rise_times = transition_times[\"rise_times\"]\n",
    "fall_times = transition_times[\"fall_times\"]\n",
    "\n",
    "if rise_times:\n",
    "    avg_rise_time = np.mean(rise_times)\n",
    "    print(f\"Average Rise Time: {avg_rise_time:.6f} seconds\")\n",
    "    print(f\"Individual Rise Times: {rise_times}\")\n",
    "else:\n",
    "    print(\"No rise transitions detected in the data.\")\n",
    "\n",
    "if fall_times:\n",
    "    avg_fall_time = np.mean(fall_times)\n",
    "    print(f\"Average Fall Time: {avg_fall_time:.6f} seconds\")\n",
    "    print(f\"Individual Fall Times: {fall_times}\")\n",
    "else:\n",
    "    print(\"No fall transitions detected in the data.\")"
   ]
  },
  {
   "cell_type": "code",
   "execution_count": null,
   "id": "27a05883-9c5e-4b76-ae31-082c4e98088b",
   "metadata": {},
   "outputs": [],
   "source": []
  },
  {
   "cell_type": "code",
   "execution_count": null,
   "id": "004bb8e0-a240-4f9a-ac35-5a6116d5291e",
   "metadata": {},
   "outputs": [],
   "source": []
  }
 ],
 "metadata": {
  "kernelspec": {
   "display_name": "Python 3 (ipykernel)",
   "language": "python",
   "name": "python3"
  },
  "language_info": {
   "codemirror_mode": {
    "name": "ipython",
    "version": 3
   },
   "file_extension": ".py",
   "mimetype": "text/x-python",
   "name": "python",
   "nbconvert_exporter": "python",
   "pygments_lexer": "ipython3",
   "version": "3.12.7"
  }
 },
 "nbformat": 4,
 "nbformat_minor": 5
}
