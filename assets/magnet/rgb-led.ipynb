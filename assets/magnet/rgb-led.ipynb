{
 "cells": [
  {
   "cell_type": "code",
   "execution_count": 1,
   "id": "ba7e91a7",
   "metadata": {},
   "outputs": [],
   "source": [
    "from gpiozero import LED\n",
    "import time\n",
    "import random"
   ]
  },
  {
   "cell_type": "code",
   "execution_count": 2,
   "id": "28d67783",
   "metadata": {},
   "outputs": [],
   "source": [
    "l1 = LED(26)\n",
    "l2 = LED(13)\n",
    "l3 = LED(6)"
   ]
  },
  {
   "cell_type": "code",
   "execution_count": null,
   "id": "89a9f8f9",
   "metadata": {},
   "outputs": [],
   "source": [
    "def pick_led(n):\n",
    "    x = random.choice(range(n))\n",
    "    if x == 0:\n",
    "        return l1\n",
    "    elif x == 1:\n",
    "        return l2\n",
    "    elif x == 2:\n",
    "        return l3\n",
    "    else:\n",
    "        return None\n",
    "\n",
    "i=0\n",
    "while True:\n",
    "    i = i+1\n",
    "    led = pick_led(100)\n",
    "    if not led:\n",
    "        continue\n",
    "    led.on()\n",
    "    time.sleep(0.001*i%5)\n",
    "    \n",
    "    led = pick_led(3)\n",
    "    if not led:\n",
    "        continue\n",
    "    led.off()\n",
    "    time.sleep(0.001*i%10)\n",
    "    "
   ]
  },
  {
   "cell_type": "raw",
   "id": "95e23c7c",
   "metadata": {},
   "source": []
  },
  {
   "cell_type": "code",
   "execution_count": null,
   "id": "6a176d02",
   "metadata": {},
   "outputs": [],
   "source": []
  }
 ],
 "metadata": {
  "kernelspec": {
   "display_name": "Python 3 (ipykernel)",
   "language": "python",
   "name": "python3"
  },
  "language_info": {
   "codemirror_mode": {
    "name": "ipython",
    "version": 3
   },
   "file_extension": ".py",
   "mimetype": "text/x-python",
   "name": "python",
   "nbconvert_exporter": "python",
   "pygments_lexer": "ipython3",
   "version": "3.7.3"
  }
 },
 "nbformat": 4,
 "nbformat_minor": 5
}
