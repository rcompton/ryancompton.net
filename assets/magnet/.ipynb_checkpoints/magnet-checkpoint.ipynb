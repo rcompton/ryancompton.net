{
 "cells": [
  {
   "cell_type": "code",
   "execution_count": 1,
   "id": "ba7e91a7",
   "metadata": {},
   "outputs": [],
   "source": [
    "from gpiozero import LED, DigitalInputDevice\n",
    "import time\n",
    "import random"
   ]
  },
  {
   "cell_type": "code",
   "execution_count": 2,
   "id": "28d67783",
   "metadata": {},
   "outputs": [],
   "source": [
    "led = LED(17)"
   ]
  },
  {
   "cell_type": "code",
   "execution_count": null,
   "id": "89a9f8f9",
   "metadata": {},
   "outputs": [],
   "source": [
    "x= .1\n",
    "while True:\n",
    "    led.on()\n",
    "    time.sleep(x)#+x*random.choice(range(100))/1000)\n",
    "    led.off()\n",
    "    time.sleep(x)\n",
    "    "
   ]
  },
  {
   "cell_type": "raw",
   "id": "95e23c7c",
   "metadata": {},
   "source": []
  },
  {
   "cell_type": "code",
   "execution_count": null,
   "id": "6a176d02",
   "metadata": {},
   "outputs": [],
   "source": []
  },
  {
   "cell_type": "code",
   "execution_count": null,
   "id": "4d73e406",
   "metadata": {},
   "outputs": [],
   "source": []
  }
 ],
 "metadata": {
  "kernelspec": {
   "display_name": "Python 3 (ipykernel)",
   "language": "python",
   "name": "python3"
  },
  "language_info": {
   "codemirror_mode": {
    "name": "ipython",
    "version": 3
   },
   "file_extension": ".py",
   "mimetype": "text/x-python",
   "name": "python",
   "nbconvert_exporter": "python",
   "pygments_lexer": "ipython3",
   "version": "3.7.3"
  }
 },
 "nbformat": 4,
 "nbformat_minor": 5
}
