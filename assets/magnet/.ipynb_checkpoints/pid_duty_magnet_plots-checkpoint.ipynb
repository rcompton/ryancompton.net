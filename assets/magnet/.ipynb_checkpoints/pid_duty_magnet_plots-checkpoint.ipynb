{
 "cells": [
  {
   "cell_type": "code",
   "execution_count": 27,
   "id": "cd27871d-b62b-4070-83be-95260b36a891",
   "metadata": {},
   "outputs": [
    {
     "name": "stdout",
     "output_type": "stream",
     "text": [
      "Attempting to connect to 192.168.86.121 as pi...\n",
      "SSH connection established.\n",
      "Executing streaming command: 'while true; do cat /home/pi/ryancompton.net/assets/magnet/pid_duty_magnet_data.csv; sleep 0.2; done'...\n",
      "Streaming command executed.\n",
      "Received: Time_s,HallVoltage1,DutyCycle,Setpoint,HYST_LOW,HYST_HIGH\n",
      "Skipping invalid data point: Time_s,HallVoltage1,DutyCycle,Setpoint,HYST_LOW,HYST_HIGH\n"
     ]
    },
    {
     "data": {
      "image/png": "[encoded data removed]",
      "text/plain": [
       "<Figure size 640x480 with 1 Axes>"
      ]
     },
     "metadata": {},
     "output_type": "display_data"
    },
    {
     "name": "stdout",
     "output_type": "stream",
     "text": [
      "SSH connection closed.\n"
     ]
    },
    {
     "ename": "KeyboardInterrupt",
     "evalue": "",
     "output_type": "error",
     "traceback": [
      "\u001b[0;31m---------------------------------------------------------------------------\u001b[0m",
      "\u001b[0;31mKeyboardInterrupt\u001b[0m                         Traceback (most recent call last)",
      "Cell \u001b[0;32mIn[27], line 82\u001b[0m\n\u001b[1;32m     80\u001b[0m     \u001b[38;5;66;03m# --- Keep the program alive to allow animation to run ---\u001b[39;00m\n\u001b[1;32m     81\u001b[0m     \u001b[38;5;28;01mwhile\u001b[39;00m \u001b[38;5;28;01mTrue\u001b[39;00m:\n\u001b[0;32m---> 82\u001b[0m         \u001b[43mplt\u001b[49m\u001b[38;5;241;43m.\u001b[39;49m\u001b[43mpause\u001b[49m\u001b[43m(\u001b[49m\u001b[38;5;241;43m0.1\u001b[39;49m\u001b[43m)\u001b[49m  \u001b[38;5;66;03m# Short pause to allow event processing\u001b[39;00m\n\u001b[1;32m     84\u001b[0m \u001b[38;5;28;01mexcept\u001b[39;00m \u001b[38;5;167;01mException\u001b[39;00m \u001b[38;5;28;01mas\u001b[39;00m e:\n\u001b[1;32m     85\u001b[0m     \u001b[38;5;28mprint\u001b[39m(\u001b[38;5;124mf\u001b[39m\u001b[38;5;124m\"\u001b[39m\u001b[38;5;124mError: \u001b[39m\u001b[38;5;132;01m{\u001b[39;00me\u001b[38;5;132;01m}\u001b[39;00m\u001b[38;5;124m\"\u001b[39m)\n",
      "File \u001b[0;32m~/.virtualenvs/magnetmac/lib/python3.13/site-packages/matplotlib/pyplot.py:760\u001b[0m, in \u001b[0;36mpause\u001b[0;34m(interval)\u001b[0m\n\u001b[1;32m    758\u001b[0m     canvas\u001b[38;5;241m.\u001b[39mstart_event_loop(interval)\n\u001b[1;32m    759\u001b[0m \u001b[38;5;28;01melse\u001b[39;00m:\n\u001b[0;32m--> 760\u001b[0m     \u001b[43mtime\u001b[49m\u001b[38;5;241;43m.\u001b[39;49m\u001b[43msleep\u001b[49m\u001b[43m(\u001b[49m\u001b[43minterval\u001b[49m\u001b[43m)\u001b[49m\n",
      "\u001b[0;31mKeyboardInterrupt\u001b[0m: "
     ]
    }
   ],
   "source": [
    "import paramiko\n",
    "import os\n",
    "import time\n",
    "import matplotlib.pyplot as plt\n",
    "import matplotlib.animation as animation\n",
    "from collections import deque\n",
    "\n",
    "# --- Configuration ---\n",
    "remote_host = os.getenv(\"INFINITY_MIRROR_IP\")\n",
    "remote_user = os.getenv(\"INFINITY_MIRROR_USER\")\n",
    "remote_password = os.getenv(\"INFINITY_MIRROR_PASSWORD\")\n",
    "remote_csv_path = \"/home/pi/ryancompton.net/assets/magnet/pid_duty_magnet_data.csv\"\n",
    "data_buffer = deque(maxlen=50)  # Store the last 50 data points\n",
    "initial_y_min = 0\n",
    "initial_y_max = 5  # Adjust this based on the expected range of your data\n",
    "\n",
    "# --- Create a Paramiko SSH client ---\n",
    "ssh = paramiko.SSHClient()\n",
    "ssh.set_missing_host_key_policy(paramiko.AutoAddPolicy())\n",
    "\n",
    "# --- Matplotlib setup ---\n",
    "%matplotlib notebook \n",
    "# Use the above line or the below line, but not both\n",
    "# %matplotlib inline \n",
    "plt.ion()\n",
    "fig, ax = plt.subplots()\n",
    "line, = ax.plot([], [], 'r-')\n",
    "ax.set_xlim(0, 50)  # Fixed x-axis limits (last 50 points)\n",
    "ax.set_ylim(initial_y_min, initial_y_max)  # Initial y-axis limits\n",
    "ax.set_xlabel('Data Points')\n",
    "ax.set_ylabel('Value')\n",
    "ax.set_title('Streaming Data from Raspberry Pi')\n",
    "\n",
    "# --- Function to update the plot ---\n",
    "def animate(i, stdout, line):\n",
    "    try:\n",
    "        # Read a line of data (non-blocking)\n",
    "        if stdout.channel.recv_ready():\n",
    "            line_read = stdout.readline().strip()\n",
    "            print(f\"Received: {line_read}\") # Comment out if you don't want to see all the values\n",
    "            try:\n",
    "                # Choose the column index you want to plot (0-indexed)\n",
    "                column_to_plot = 1 # HallVoltage1 (index 1)\n",
    "                value = float(line_read.split(',')[column_to_plot])\n",
    "                data_buffer.append(value)\n",
    "\n",
    "                # Update y-axis limits dynamically\n",
    "                if value > ax.get_ylim()[1]:\n",
    "                    ax.set_ylim(ax.get_ylim()[0], value * 1.1)  # Increase upper limit\n",
    "                elif value < ax.get_ylim()[0]:\n",
    "                    ax.set_ylim(value * 0.9, ax.get_ylim()[1])  # Decrease upper limit\n",
    "\n",
    "            except (ValueError, IndexError):\n",
    "                print(f\"Skipping invalid data point: {line_read}\") # Comment out if you don't want to see this message\n",
    "\n",
    "            # Update the plot\n",
    "            line.set_data(range(len(data_buffer)), data_buffer)\n",
    "            fig.canvas.draw()\n",
    "            fig.canvas.flush_events()\n",
    "\n",
    "        else:\n",
    "            print(\"No data ready to read.\") # Comment out if you don't want to see this message\n",
    "\n",
    "    except Exception as e:\n",
    "        print(f\"Error in animate function: {e}\")\n",
    "\n",
    "    return line,\n",
    "\n",
    "# --- Connect to SSH ---\n",
    "try:\n",
    "    print(f\"Attempting to connect to {remote_host} as {remote_user}...\")\n",
    "    ssh.connect(remote_host, username=remote_user, password=remote_password)\n",
    "    print(\"SSH connection established.\")\n",
    "\n",
    "    # --- Execute the streaming command ---\n",
    "    print(f\"Executing streaming command: 'while true; do cat {remote_csv_path}; sleep 0.2; done'...\")\n",
    "    stdin, stdout, stderr = ssh.exec_command(f\"while true; do cat {remote_csv_path}; sleep 0.2; done\")\n",
    "    print(\"Streaming command executed.\")\n",
    "\n",
    "    # --- Run the animation ---\n",
    "    ani = animation.FuncAnimation(fig, animate, fargs=(stdout, line), interval=200, save_count=50)\n",
    "\n",
    "    plt.show()\n",
    "\n",
    "except Exception as e:\n",
    "    print(f\"Error: {e}\")\n",
    "\n",
    "finally:\n",
    "    if ssh:\n",
    "        ssh.close()\n",
    "        print(\"SSH connection closed.\")"
   ]
  },
  {
   "cell_type": "code",
   "execution_count": null,
   "id": "521a023e",
   "metadata": {},
   "outputs": [],
   "source": []
  },
  {
   "cell_type": "code",
   "execution_count": null,
   "id": "550c0011",
   "metadata": {},
   "outputs": [],
   "source": []
  }
 ],
 "metadata": {
  "kernelspec": {
   "display_name": "Python 3 (ipykernel)",
   "language": "python",
   "name": "python3"
  },
  "language_info": {
   "codemirror_mode": {
    "name": "ipython",
    "version": 3
   },
   "file_extension": ".py",
   "mimetype": "text/x-python",
   "name": "python",
   "nbconvert_exporter": "python",
   "pygments_lexer": "ipython3",
   "version": "3.13.0"
  }
 },
 "nbformat": 4,
 "nbformat_minor": 5
}
